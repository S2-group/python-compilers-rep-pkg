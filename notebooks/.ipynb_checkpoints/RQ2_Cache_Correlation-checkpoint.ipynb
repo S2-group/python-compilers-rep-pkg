{
 "cells": [
  {
   "cell_type": "code",
   "execution_count": 1,
   "id": "37633f82-ea62-4f5f-95c3-359942653534",
   "metadata": {},
   "outputs": [],
   "source": [
    "import glob, os\n",
    "import pandas as pd\n",
    "import numpy as np\n",
    "import seaborn as sns\n",
    "from itertools import product\n",
    "import matplotlib.pyplot as plt\n",
    "import utils\n",
    "import statistics"
   ]
  },
  {
   "cell_type": "code",
   "execution_count": 2,
   "id": "c6f467a4-01c7-4c60-87d7-1a383e560120",
   "metadata": {},
   "outputs": [],
   "source": [
    "SERVER = 'nuc'\n",
    "DATAPATH = f\"../experiments/{SERVER}_data.csv\""
   ]
  },
  {
   "cell_type": "code",
   "execution_count": 3,
   "id": "8d50a21d-79f8-420d-9dac-d5875427b805",
   "metadata": {},
   "outputs": [],
   "source": [
    "data = pd.read_csv(DATAPATH)"
   ]
  },
  {
   "cell_type": "code",
   "execution_count": 4,
   "id": "2401481c-ca01-4fd1-ac53-3fa2b7ad5123",
   "metadata": {},
   "outputs": [],
   "source": [
    "data = data.dropna(subset=['execution_time'])"
   ]
  },
  {
   "cell_type": "code",
   "execution_count": 5,
   "id": "07ca73f8-c28c-43e0-8d96-6fa3d84da27d",
   "metadata": {},
   "outputs": [],
   "source": [
    "# Convert to KJ and add Total Energy\n",
    "data['PACKAGE_ENERGY (J)'] = data['PACKAGE_ENERGY (J)'] / 1000\n",
    "data['DRAM_ENERGY (J)'] = data['DRAM_ENERGY (J)'] / 1000\n",
    "data['PP0_ENERGY (J)'] = data['PP0_ENERGY (J)'] / 1000\n",
    "data['TOTAL_ENERGY'] = data['PACKAGE_ENERGY (J)'] + data['DRAM_ENERGY (J)']\n",
    "data['CACHE_ENERGY'] = data['PACKAGE_ENERGY (J)'] - data['PP0_ENERGY (J)']\n",
    "data['execution_time'] = data['execution_time'] / 60\n",
    "data.rename(\n",
    "    columns={'PACKAGE_ENERGY (J)': 'PACKAGE_ENERGY (KJ)', 'DRAM_ENERGY (J)': 'DRAM_ENERGY (KJ)', 'PP0_ENERGY (J)': 'PP0_ENERGY (KJ)' }, inplace=True\n",
    ")"
   ]
  },
  {
   "cell_type": "code",
   "execution_count": 6,
   "id": "dab71655-c789-474d-bfc3-34882e151ed4",
   "metadata": {},
   "outputs": [],
   "source": [
    "#subjects = list(set(data['subject'].values))\n",
    "subjects = ['cpython', 'pypy', 'numba', 'pyston-lite', 'py3.13-jit', 'nuitka', 'cython', 'codon', 'mypyc']\n",
    "targets = ['mandelbrot', 'fannkuch_redux', 'binary_trees', 'n_body', 'spectralnorm', 'k_nucleotide', 'fasta']\n",
    "GROUPS = list(\n",
    "    product(list(set(subjects) - {'cpython'}), targets)\n",
    ")"
   ]
  },
  {
   "cell_type": "code",
   "execution_count": 10,
   "id": "f13096bc-1969-4868-a021-ad0859f2b28c",
   "metadata": {},
   "outputs": [],
   "source": [
    "def pearson_correlation(x, y):\n",
    "    # Convert inputs to numpy arrays\n",
    "    x = np.array(x)\n",
    "    y = np.array(y)\n",
    "    \n",
    "    # Calculate the mean of x and y\n",
    "    x_mean = np.mean(x)\n",
    "    y_mean = np.mean(y)\n",
    "    \n",
    "    # Calculate the numerator\n",
    "    numerator = np.sum((x - x_mean) * (y - y_mean))\n",
    "    \n",
    "    # Calculate the denominator\n",
    "    denominator = np.sqrt(np.sum((x - x_mean)**2) * np.sum((y - y_mean)**2))\n",
    "    \n",
    "    # Calculate the correlation coefficient\n",
    "    correlation = numerator / denominator\n",
    "    \n",
    "    return correlation"
   ]
  },
  {
   "cell_type": "code",
   "execution_count": 13,
   "id": "3a90eec3-dc71-4531-b8e8-977dcff6d7ee",
   "metadata": {},
   "outputs": [
    {
     "data": {
      "text/html": [
       "<div>\n",
       "<style scoped>\n",
       "    .dataframe tbody tr th:only-of-type {\n",
       "        vertical-align: middle;\n",
       "    }\n",
       "\n",
       "    .dataframe tbody tr th {\n",
       "        vertical-align: top;\n",
       "    }\n",
       "\n",
       "    .dataframe thead th {\n",
       "        text-align: right;\n",
       "    }\n",
       "</style>\n",
       "<table border=\"1\" class=\"dataframe\">\n",
       "  <thead>\n",
       "    <tr style=\"text-align: right;\">\n",
       "      <th></th>\n",
       "      <th>subject</th>\n",
       "      <th>correlation</th>\n",
       "    </tr>\n",
       "  </thead>\n",
       "  <tbody>\n",
       "    <tr>\n",
       "      <th>0</th>\n",
       "      <td>cpython</td>\n",
       "      <td>0.999989</td>\n",
       "    </tr>\n",
       "    <tr>\n",
       "      <th>1</th>\n",
       "      <td>pypy</td>\n",
       "      <td>0.999240</td>\n",
       "    </tr>\n",
       "    <tr>\n",
       "      <th>2</th>\n",
       "      <td>numba</td>\n",
       "      <td>0.997365</td>\n",
       "    </tr>\n",
       "    <tr>\n",
       "      <th>3</th>\n",
       "      <td>pyston-lite</td>\n",
       "      <td>0.999989</td>\n",
       "    </tr>\n",
       "    <tr>\n",
       "      <th>4</th>\n",
       "      <td>py3.13-jit</td>\n",
       "      <td>0.999884</td>\n",
       "    </tr>\n",
       "    <tr>\n",
       "      <th>5</th>\n",
       "      <td>nuitka</td>\n",
       "      <td>0.999233</td>\n",
       "    </tr>\n",
       "    <tr>\n",
       "      <th>6</th>\n",
       "      <td>cython</td>\n",
       "      <td>0.998394</td>\n",
       "    </tr>\n",
       "    <tr>\n",
       "      <th>7</th>\n",
       "      <td>codon</td>\n",
       "      <td>0.996863</td>\n",
       "    </tr>\n",
       "    <tr>\n",
       "      <th>8</th>\n",
       "      <td>mypyc</td>\n",
       "      <td>0.999832</td>\n",
       "    </tr>\n",
       "  </tbody>\n",
       "</table>\n",
       "</div>"
      ],
      "text/plain": [
       "       subject  correlation\n",
       "0      cpython     0.999989\n",
       "1         pypy     0.999240\n",
       "2        numba     0.997365\n",
       "3  pyston-lite     0.999989\n",
       "4   py3.13-jit     0.999884\n",
       "5       nuitka     0.999233\n",
       "6       cython     0.998394\n",
       "7        codon     0.996863\n",
       "8        mypyc     0.999832"
      ]
     },
     "execution_count": 13,
     "metadata": {},
     "output_type": "execute_result"
    }
   ],
   "source": [
    "rows = []\n",
    "for x in subjects:\n",
    "    energy = data[(data['subject'] == x)]['TOTAL_ENERGY'].to_list()\n",
    "    time = data[(data['subject'] == x)]['execution_time'].to_list()\n",
    "    correlation = pearson_correlation(energy, time)\n",
    "    row = {'subject': x , 'correlation': correlation}\n",
    "    rows.append(row)\n",
    "    \n",
    "pd.DataFrame(rows)"
   ]
  },
  {
   "cell_type": "code",
   "execution_count": null,
   "id": "66232986-da1a-4741-873f-e6ea893b1bd2",
   "metadata": {},
   "outputs": [],
   "source": []
  },
  {
   "cell_type": "code",
   "execution_count": null,
   "id": "f017dfe9-f726-422f-962b-9804c50e3317",
   "metadata": {},
   "outputs": [],
   "source": []
  }
 ],
 "metadata": {
  "kernelspec": {
   "display_name": "Python 3 (ipykernel)",
   "language": "python",
   "name": "python3"
  },
  "language_info": {
   "codemirror_mode": {
    "name": "ipython",
    "version": 3
   },
   "file_extension": ".py",
   "mimetype": "text/x-python",
   "name": "python",
   "nbconvert_exporter": "python",
   "pygments_lexer": "ipython3",
   "version": "3.12.5"
  }
 },
 "nbformat": 4,
 "nbformat_minor": 5
}
